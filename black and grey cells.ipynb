{
 "cells": [
  {
   "cell_type": "code",
   "execution_count": 1,
   "metadata": {},
   "outputs": [],
   "source": [
    "from math import *"
   ]
  },
  {
   "cell_type": "code",
   "execution_count": 98,
   "metadata": {},
   "outputs": [],
   "source": [
    "def blackcell(i,k,j):\n",
    "    print(\"module blkcell(\"+\"G\"+str(i)+\"_\"+str(k)+\",\"+\"P\"+str(i)+\"_\"+str(k)+\",\"+\"G\"+str(k-1)+\"_\"+str(j)+\",\"+\"P\"+str(k-1)+\"_\"+str(j)+\",\"+\"G\"+str(i)+\"_\"+str(j)+\",\"+\"P\"+str(i)+\"_\"+str(j)+\")\"+\";\")\n",
    "    print(\"  input \"+\"G\"+str(i)+\"_\"+str(k)+\",\"+\"P\"+str(i)+\"_\"+str(k)+\",\"+\"G\"+str(k-1)+\"_\"+str(j)+\",\"+\"P\"+str(k-1)+\"_\"+str(j)+\";\")\n",
    "    print(\"  output \"+\"G\"+str(i)+\"_\"+str(j)+\",\"+\"P\"+str(i)+\"_\"+str(j)+\";\")\n",
    "    print(\"  wire s1 ;\")\n",
    "    print(\"  and(\"+\"P\"+str(i)+\"_\"+str(k)+\" , \"+\"G\"+str(k-1)+\"_\"+str(j)+\",s1);\")\n",
    "    print(\"  assign \" + \"G\"+str(i)+\"_\"+str(j)+\"=\"+\"s1|\"+\"G\"+str(i)+\"_\"+str(k)+\";\")\n",
    "    print(\"  assign \" + \"P\"+str(i)+\"_\"+str(j)+\"=\"+\"P\"+str(i)+\"_\"+str(k)+\"&\"+\"P\"+str(k-1)+\"_\"+str(j)+\";\")\n",
    "    print(\"endmodule\")"
   ]
  },
  {
   "cell_type": "code",
   "execution_count": 106,
   "metadata": {},
   "outputs": [
    {
     "name": "stdout",
     "output_type": "stream",
     "text": [
      "module blkcell(G15_8,P15_8,G7_4,G15_4,);\n",
      "  input G15_8,P15_8,G7_4,;\n",
      "  output G15_4;\n",
      "  wire s1 ;\n",
      "  and(P15_8 , G7_4,s1);\n",
      "  assign G15_4=s1|G15_8;\n",
      "endmodule\n"
     ]
    }
   ],
   "source": [
    "greycell(15,8,4)"
   ]
  },
  {
   "cell_type": "code",
   "execution_count": 53,
   "metadata": {},
   "outputs": [],
   "source": [
    "i=0\n",
    "k=5\n",
    "j=8"
   ]
  },
  {
   "cell_type": "code",
   "execution_count": 105,
   "metadata": {},
   "outputs": [],
   "source": [
    "def greycell(i,k,j):\n",
    "    print(\"module blkcell(\"+\"G\"+str(i)+\"_\"+str(k)+\",\"+\"P\"+str(i)+\"_\"+str(k)+\",\"+\"G\"+str(k-1)+\"_\"+str(j)+\",\"+\"G\"+str(i)+\"_\"+str(j)+\",\"+\")\"+\";\")\n",
    "    print(\"  input \"+\"G\"+str(i)+\"_\"+str(k)+\",\"+\"P\"+str(i)+\"_\"+str(k)+\",\"+\"G\"+str(k-1)+\"_\"+str(j)+\",\"+\";\")\n",
    "    print(\"  output \"+\"G\"+str(i)+\"_\"+str(j)+\";\")\n",
    "    print(\"  wire s1 ;\")\n",
    "    print(\"  and(\"+\"P\"+str(i)+\"_\"+str(k)+\" , \"+\"G\"+str(k-1)+\"_\"+str(j)+\",s1);\")\n",
    "    print(\"  assign \" + \"G\"+str(i)+\"_\"+str(j)+\"=\"+\"s1|\"+\"G\"+str(i)+\"_\"+str(k)+\";\")\n",
    "    print(\"endmodule\")"
   ]
  },
  {
   "cell_type": "code",
   "execution_count": null,
   "metadata": {},
   "outputs": [],
   "source": []
  }
 ],
 "metadata": {
  "kernelspec": {
   "display_name": "Python 3",
   "language": "python",
   "name": "python3"
  },
  "language_info": {
   "codemirror_mode": {
    "name": "ipython",
    "version": 3
   },
   "file_extension": ".py",
   "mimetype": "text/x-python",
   "name": "python",
   "nbconvert_exporter": "python",
   "pygments_lexer": "ipython3",
   "version": "3.6.6"
  }
 },
 "nbformat": 4,
 "nbformat_minor": 2
}
