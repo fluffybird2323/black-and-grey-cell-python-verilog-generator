{
 "cells": [
  {
   "cell_type": "code",
   "execution_count": 1,
   "metadata": {},
   "outputs": [],
   "source": [
    "from math import *"
   ]
  },
  {
   "cell_type": "code",
   "execution_count": 98,
   "metadata": {},
   "outputs": [],
   "source": [
    "def blackcell(i,k,j):\n",
    "    print(\"module blkcell(\"+\"G\"+str(i)+\"_\"+str(k)+\",\"+\"P\"+str(i)+\"_\"+str(k)+\",\"+\"G\"+str(k-1)+\"_\"+str(j)+\",\"+\"P\"+str(k-1)+\"_\"+str(j)+\",\"+\"G\"+str(i)+\"_\"+str(j)+\",\"+\"P\"+str(i)+\"_\"+str(j)+\")\"+\";\")\n",
    "    print(\"  input \"+\"G\"+str(i)+\"_\"+str(k)+\",\"+\"P\"+str(i)+\"_\"+str(k)+\",\"+\"G\"+str(k-1)+\"_\"+str(j)+\",\"+\"P\"+str(k-1)+\"_\"+str(j)+\";\")\n",
    "    print(\"  output \"+\"G\"+str(i)+\"_\"+str(j)+\",\"+\"P\"+str(i)+\"_\"+str(j)+\";\")\n",
    "    print(\"  wire s1 ;\")\n",
    "    print(\"  and(\"+\"P\"+str(i)+\"_\"+str(k)+\" , \"+\"G\"+str(k-1)+\"_\"+str(j)+\",s1);\")\n",
    "    print(\"  assign \" + \"G\"+str(i)+\"_\"+str(j)+\"=\"+\"s1|\"+\"G\"+str(i)+\"_\"+str(k)+\";\")\n",
    "    print(\"  assign \" + \"P\"+str(i)+\"_\"+str(j)+\"=\"+\"P\"+str(i)+\"_\"+str(k)+\"&\"+\"P\"+str(k-1)+\"_\"+str(j)+\";\")\n",
    "    print(\"endmodule\")"
   ]
  },
  {
   "cell_type": "code",
   "execution_count": 112,
   "metadata": {},
   "outputs": [
    {
     "name": "stdout",
     "output_type": "stream",
     "text": [
      "module blkcell(G0_8,P0_8,G7_5,P7_5,G0_5,P0_5);\n",
      "  input G0_8,P0_8,G7_5,P7_5;\n",
      "  output G0_5,P0_5;\n",
      "  wire s1 ;\n",
      "  and(P0_8 , G7_5,s1);\n",
      "  assign G0_5=s1|G0_8;\n",
      "  assign P0_5=P0_8&P7_5;\n",
      "endmodule\n"
     ]
    }
   ],
   "source": [
    "blackcell(i,j,k)"
   ]
  },
  {
   "cell_type": "code",
   "execution_count": 53,
   "metadata": {},
   "outputs": [],
   "source": [
    "i=0\n",
    "k=5\n",
    "j=8"
   ]
  },
  {
   "cell_type": "code",
   "execution_count": 109,
   "metadata": {},
   "outputs": [],
   "source": [
    "def greycell(i,k,j):\n",
    "    print(\"module greycell(\"+\"G\"+str(i)+\"_\"+str(k)+\",\"+\"P\"+str(i)+\"_\"+str(k)+\",\"+\"G\"+str(k-1)+\"_\"+str(j)+\",\"+\"G\"+str(i)+\"_\"+str(j)+\",\"+\")\"+\";\")\n",
    "    print(\"  input \"+\"G\"+str(i)+\"_\"+str(k)+\",\"+\"P\"+str(i)+\"_\"+str(k)+\",\"+\"G\"+str(k-1)+\"_\"+str(j)+\",\"+\";\")\n",
    "    print(\"  output \"+\"G\"+str(i)+\"_\"+str(j)+\";\")\n",
    "    print(\"  wire s1 ;\")\n",
    "    print(\"  and(\"+\"P\"+str(i)+\"_\"+str(k)+\" , \"+\"G\"+str(k-1)+\"_\"+str(j)+\",s1);\")\n",
    "    print(\"  assign \" + \"G\"+str(i)+\"_\"+str(j)+\"=\"+\"s1|\"+\"G\"+str(i)+\"_\"+str(k)+\";\")\n",
    "    print(\"endmodule\")"
   ]
  },
  {
   "cell_type": "raw",
   "metadata": {},
   "source": []
  },
  {
   "cell_type": "code",
   "execution_count": 113,
   "metadata": {},
   "outputs": [
    {
     "name": "stdout",
     "output_type": "stream",
     "text": [
      "module greycell(G0_8,P0_8,G7_5,G0_5,);\n",
      "  input G0_8,P0_8,G7_5,;\n",
      "  output G0_5;\n",
      "  wire s1 ;\n",
      "  and(P0_8 , G7_5,s1);\n",
      "  assign G0_5=s1|G0_8;\n",
      "endmodule\n"
     ]
    }
   ],
   "source": [
    "greycell(i,j,k)"
   ]
  },
  {
   "cell_type": "code",
   "execution_count": null,
   "metadata": {},
   "outputs": [],
   "source": []
  }
 ],
 "metadata": {
  "kernelspec": {
   "display_name": "Python 3",
   "language": "python",
   "name": "python3"
  },
  "language_info": {
   "codemirror_mode": {
    "name": "ipython",
    "version": 3
   },
   "file_extension": ".py",
   "mimetype": "text/x-python",
   "name": "python",
   "nbconvert_exporter": "python",
   "pygments_lexer": "ipython3",
   "version": "3.6.6"
  }
 },
 "nbformat": 4,
 "nbformat_minor": 2
}
